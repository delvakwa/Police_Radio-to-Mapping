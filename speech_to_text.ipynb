{
 "cells": [
  {
   "cell_type": "markdown",
   "metadata": {},
   "source": [
    "# Google Cloud Speech to Text"
   ]
  },
  {
   "cell_type": "markdown",
   "metadata": {},
   "source": [
    "### Importation of google.cloud libraries and installs"
   ]
  },
  {
   "cell_type": "code",
   "execution_count": 3,
   "metadata": {},
   "outputs": [
    {
     "name": "stdout",
     "output_type": "stream",
     "text": [
      "Collecting google.cloud\n",
      "  Using cached https://files.pythonhosted.org/packages/ba/b1/7c54d1950e7808df06642274e677dbcedba57f75307adf2e5ad8d39e5e0e/google_cloud-0.34.0-py2.py3-none-any.whl\n",
      "Installing collected packages: google.cloud\n",
      "Successfully installed google.cloud\n",
      "Collecting google.cloud.speech\n",
      "  Using cached https://files.pythonhosted.org/packages/61/4f/94b8c54376384ec36dd2573d175c2be6663eb0bc165588dd807c7ab1b568/google_cloud_speech-1.2.0-py2.py3-none-any.whl\n",
      "Requirement already satisfied: google-api-core[grpc]<2.0.0dev,>=1.14.0 in /Users/mymac/.local/lib/python3.7/site-packages (from google.cloud.speech) (1.14.0)\n",
      "Requirement already satisfied: six>=1.10.0 in /Users/mymac/anaconda3/lib/python3.7/site-packages (from google-api-core[grpc]<2.0.0dev,>=1.14.0->google.cloud.speech) (1.12.0)\n",
      "Requirement already satisfied: googleapis-common-protos<2.0dev,>=1.6.0 in /Users/mymac/.local/lib/python3.7/site-packages (from google-api-core[grpc]<2.0.0dev,>=1.14.0->google.cloud.speech) (1.6.0)\n",
      "Requirement already satisfied: protobuf>=3.4.0 in /Users/mymac/.local/lib/python3.7/site-packages (from google-api-core[grpc]<2.0.0dev,>=1.14.0->google.cloud.speech) (3.9.0)\n",
      "Requirement already satisfied: setuptools>=34.0.0 in /Users/mymac/anaconda3/lib/python3.7/site-packages (from google-api-core[grpc]<2.0.0dev,>=1.14.0->google.cloud.speech) (40.8.0)\n",
      "Requirement already satisfied: google-auth<2.0dev,>=0.4.0 in /Users/mymac/.local/lib/python3.7/site-packages (from google-api-core[grpc]<2.0.0dev,>=1.14.0->google.cloud.speech) (1.6.3)\n",
      "Requirement already satisfied: requests<3.0.0dev,>=2.18.0 in /Users/mymac/anaconda3/lib/python3.7/site-packages (from google-api-core[grpc]<2.0.0dev,>=1.14.0->google.cloud.speech) (2.21.0)\n",
      "Requirement already satisfied: pytz in /Users/mymac/anaconda3/lib/python3.7/site-packages (from google-api-core[grpc]<2.0.0dev,>=1.14.0->google.cloud.speech) (2018.9)\n",
      "Requirement already satisfied: grpcio<2.0dev,>=1.8.2; extra == \"grpc\" in /Users/mymac/.local/lib/python3.7/site-packages (from google-api-core[grpc]<2.0.0dev,>=1.14.0->google.cloud.speech) (1.22.0)\n",
      "Requirement already satisfied: cachetools>=2.0.0 in /Users/mymac/.local/lib/python3.7/site-packages (from google-auth<2.0dev,>=0.4.0->google-api-core[grpc]<2.0.0dev,>=1.14.0->google.cloud.speech) (3.1.1)\n",
      "Requirement already satisfied: rsa>=3.1.4 in /Users/mymac/.local/lib/python3.7/site-packages (from google-auth<2.0dev,>=0.4.0->google-api-core[grpc]<2.0.0dev,>=1.14.0->google.cloud.speech) (4.0)\n",
      "Requirement already satisfied: pyasn1-modules>=0.2.1 in /Users/mymac/.local/lib/python3.7/site-packages (from google-auth<2.0dev,>=0.4.0->google-api-core[grpc]<2.0.0dev,>=1.14.0->google.cloud.speech) (0.2.5)\n",
      "Requirement already satisfied: idna<2.9,>=2.5 in /Users/mymac/anaconda3/lib/python3.7/site-packages (from requests<3.0.0dev,>=2.18.0->google-api-core[grpc]<2.0.0dev,>=1.14.0->google.cloud.speech) (2.8)\n",
      "Requirement already satisfied: chardet<3.1.0,>=3.0.2 in /Users/mymac/anaconda3/lib/python3.7/site-packages (from requests<3.0.0dev,>=2.18.0->google-api-core[grpc]<2.0.0dev,>=1.14.0->google.cloud.speech) (3.0.4)\n",
      "Requirement already satisfied: certifi>=2017.4.17 in /Users/mymac/anaconda3/lib/python3.7/site-packages (from requests<3.0.0dev,>=2.18.0->google-api-core[grpc]<2.0.0dev,>=1.14.0->google.cloud.speech) (2019.3.9)\n",
      "Requirement already satisfied: urllib3<1.25,>=1.21.1 in /Users/mymac/anaconda3/lib/python3.7/site-packages (from requests<3.0.0dev,>=2.18.0->google-api-core[grpc]<2.0.0dev,>=1.14.0->google.cloud.speech) (1.24.1)\n",
      "Requirement already satisfied: pyasn1>=0.1.3 in /Users/mymac/.local/lib/python3.7/site-packages (from rsa>=3.1.4->google-auth<2.0dev,>=0.4.0->google-api-core[grpc]<2.0.0dev,>=1.14.0->google.cloud.speech) (0.4.5)\n",
      "Installing collected packages: google.cloud.speech\n",
      "Successfully installed google.cloud.speech\n",
      "Collecting google-cloud-speech\n",
      "  Using cached https://files.pythonhosted.org/packages/61/4f/94b8c54376384ec36dd2573d175c2be6663eb0bc165588dd807c7ab1b568/google_cloud_speech-1.2.0-py2.py3-none-any.whl\n",
      "Collecting google-api-core[grpc]<2.0.0dev,>=1.14.0 (from google-cloud-speech)\n",
      "  Using cached https://files.pythonhosted.org/packages/69/70/44581d74fe4be57bf9d4d346fd44069dce104c8076ea982f845bbb1f0c76/google_api_core-1.14.1-py2.py3-none-any.whl\n",
      "Collecting setuptools>=34.0.0 (from google-api-core[grpc]<2.0.0dev,>=1.14.0->google-cloud-speech)\n",
      "  Using cached https://files.pythonhosted.org/packages/ec/51/f45cea425fd5cb0b0380f5b0f048ebc1da5b417e48d304838c02d6288a1e/setuptools-41.0.1-py2.py3-none-any.whl\n",
      "Collecting google-auth<2.0dev,>=0.4.0 (from google-api-core[grpc]<2.0.0dev,>=1.14.0->google-cloud-speech)\n",
      "  Using cached https://files.pythonhosted.org/packages/c5/9b/ed0516cc1f7609fb0217e3057ff4f0f9f3e3ce79a369c6af4a6c5ca25664/google_auth-1.6.3-py2.py3-none-any.whl\n",
      "Collecting protobuf>=3.4.0 (from google-api-core[grpc]<2.0.0dev,>=1.14.0->google-cloud-speech)\n",
      "  Using cached https://files.pythonhosted.org/packages/c5/3a/8a44dfc21ce42765c6a040bcb83646fa0fb7abfa157cc22cb837c2b1c1af/protobuf-3.9.0-cp37-cp37m-macosx_10_9_intel.macosx_10_9_x86_64.macosx_10_10_intel.macosx_10_10_x86_64.whl\n",
      "Collecting googleapis-common-protos<2.0dev,>=1.6.0 (from google-api-core[grpc]<2.0.0dev,>=1.14.0->google-cloud-speech)\n",
      "Collecting pytz (from google-api-core[grpc]<2.0.0dev,>=1.14.0->google-cloud-speech)\n",
      "  Using cached https://files.pythonhosted.org/packages/3d/73/fe30c2daaaa0713420d0382b16fbb761409f532c56bdcc514bf7b6262bb6/pytz-2019.1-py2.py3-none-any.whl\n",
      "Collecting six>=1.10.0 (from google-api-core[grpc]<2.0.0dev,>=1.14.0->google-cloud-speech)\n",
      "  Using cached https://files.pythonhosted.org/packages/73/fb/00a976f728d0d1fecfe898238ce23f502a721c0ac0ecfedb80e0d88c64e9/six-1.12.0-py2.py3-none-any.whl\n",
      "Collecting requests<3.0.0dev,>=2.18.0 (from google-api-core[grpc]<2.0.0dev,>=1.14.0->google-cloud-speech)\n",
      "  Using cached https://files.pythonhosted.org/packages/51/bd/23c926cd341ea6b7dd0b2a00aba99ae0f828be89d72b2190f27c11d4b7fb/requests-2.22.0-py2.py3-none-any.whl\n",
      "Collecting grpcio<2.0dev,>=1.8.2; extra == \"grpc\" (from google-api-core[grpc]<2.0.0dev,>=1.14.0->google-cloud-speech)\n",
      "  Using cached https://files.pythonhosted.org/packages/24/39/b9b64be086bb437c83d56b5a400b50360ccf683c476ad702836a39a4eefd/grpcio-1.22.0-cp37-cp37m-macosx_10_9_x86_64.whl\n",
      "Collecting rsa>=3.1.4 (from google-auth<2.0dev,>=0.4.0->google-api-core[grpc]<2.0.0dev,>=1.14.0->google-cloud-speech)\n",
      "  Using cached https://files.pythonhosted.org/packages/02/e5/38518af393f7c214357079ce67a317307936896e961e35450b70fad2a9cf/rsa-4.0-py2.py3-none-any.whl\n",
      "Collecting cachetools>=2.0.0 (from google-auth<2.0dev,>=0.4.0->google-api-core[grpc]<2.0.0dev,>=1.14.0->google-cloud-speech)\n",
      "  Using cached https://files.pythonhosted.org/packages/2f/a6/30b0a0bef12283e83e58c1d6e7b5aabc7acfc4110df81a4471655d33e704/cachetools-3.1.1-py2.py3-none-any.whl\n",
      "Collecting pyasn1-modules>=0.2.1 (from google-auth<2.0dev,>=0.4.0->google-api-core[grpc]<2.0.0dev,>=1.14.0->google-cloud-speech)\n",
      "  Using cached https://files.pythonhosted.org/packages/91/f0/b03e00ce9fddf4827c42df1c3ce10c74eadebfb706231e8d6d1c356a4062/pyasn1_modules-0.2.5-py2.py3-none-any.whl\n",
      "Collecting urllib3!=1.25.0,!=1.25.1,<1.26,>=1.21.1 (from requests<3.0.0dev,>=2.18.0->google-api-core[grpc]<2.0.0dev,>=1.14.0->google-cloud-speech)\n",
      "  Using cached https://files.pythonhosted.org/packages/e6/60/247f23a7121ae632d62811ba7f273d0e58972d75e58a94d329d51550a47d/urllib3-1.25.3-py2.py3-none-any.whl\n",
      "Collecting certifi>=2017.4.17 (from requests<3.0.0dev,>=2.18.0->google-api-core[grpc]<2.0.0dev,>=1.14.0->google-cloud-speech)\n",
      "  Using cached https://files.pythonhosted.org/packages/69/1b/b853c7a9d4f6a6d00749e94eb6f3a041e342a885b87340b79c1ef73e3a78/certifi-2019.6.16-py2.py3-none-any.whl\n",
      "Collecting idna<2.9,>=2.5 (from requests<3.0.0dev,>=2.18.0->google-api-core[grpc]<2.0.0dev,>=1.14.0->google-cloud-speech)\n",
      "  Using cached https://files.pythonhosted.org/packages/14/2c/cd551d81dbe15200be1cf41cd03869a46fe7226e7450af7a6545bfc474c9/idna-2.8-py2.py3-none-any.whl\n",
      "Collecting chardet<3.1.0,>=3.0.2 (from requests<3.0.0dev,>=2.18.0->google-api-core[grpc]<2.0.0dev,>=1.14.0->google-cloud-speech)\n",
      "  Using cached https://files.pythonhosted.org/packages/bc/a9/01ffebfb562e4274b6487b4bb1ddec7ca55ec7510b22e4c51f14098443b8/chardet-3.0.4-py2.py3-none-any.whl\n",
      "Collecting pyasn1>=0.1.3 (from rsa>=3.1.4->google-auth<2.0dev,>=0.4.0->google-api-core[grpc]<2.0.0dev,>=1.14.0->google-cloud-speech)\n"
     ]
    },
    {
     "name": "stdout",
     "output_type": "stream",
     "text": [
      "  Using cached https://files.pythonhosted.org/packages/7b/7c/c9386b82a25115cccf1903441bba3cbadcfae7b678a20167347fa8ded34c/pyasn1-0.4.5-py2.py3-none-any.whl\n",
      "\u001b[31mtables 3.5.1 requires mock>=2.0, which is not installed.\u001b[0m\n",
      "\u001b[31mspyder 3.3.3 requires pyqt5<=5.12; python_version >= \"3\", which is not installed.\u001b[0m\n",
      "\u001b[31mastroid 2.2.5 requires typed-ast>=1.3.0; implementation_name == \"cpython\", which is not installed.\u001b[0m\n",
      "Installing collected packages: setuptools, pyasn1, rsa, six, cachetools, pyasn1-modules, google-auth, protobuf, googleapis-common-protos, pytz, urllib3, certifi, idna, chardet, requests, grpcio, google-api-core, google-cloud-speech\n",
      "Successfully installed cachetools-3.1.1 certifi-2019.6.16 chardet-3.0.4 google-api-core-1.14.1 google-auth-1.6.3 google-cloud-speech-1.2.0 googleapis-common-protos-1.6.0 grpcio-1.22.0 idna-2.8 protobuf-3.9.0 pyasn1-0.4.5 pyasn1-modules-0.2.5 pytz-2019.1 requests-2.22.0 rsa-4.0 setuptools-41.0.1 six-1.12.0 urllib3-1.25.3\n"
     ]
    }
   ],
   "source": [
    "# ! pip install --user google.cloud\n",
    "# ! pip install --user google.cloud.speech\n",
    "# ! pip install --upgrade google-cloud-speech -t dir-name"
   ]
  },
  {
   "cell_type": "code",
   "execution_count": 5,
   "metadata": {},
   "outputs": [
    {
     "name": "stderr",
     "output_type": "stream",
     "text": [
      "/Users/mymac/anaconda3/lib/python3.7/site-packages/pydub/utils.py:165: RuntimeWarning: Couldn't find ffmpeg or avconv - defaulting to ffmpeg, but may not work\n",
      "  warn(\"Couldn't find ffmpeg or avconv - defaulting to ffmpeg, but may not work\", RuntimeWarning)\n"
     ]
    }
   ],
   "source": [
    "import pandas as pd\n",
    "import numpy as np\n",
    "\n",
    "import os\n",
    "import io\n",
    "import time\n",
    "import pickle\n",
    "\n",
    "from google.cloud import speech\n",
    "from google.cloud.speech import enums\n",
    "from google.cloud.speech import types\n",
    "from google.api_core.protobuf_helpers import get_messages\n",
    "from multiprocessing.dummy import Pool\n",
    "from pydub import AudioSegment"
   ]
  },
  {
   "cell_type": "code",
   "execution_count": null,
   "metadata": {},
   "outputs": [],
   "source": [
    "# Code from Camp Fire Radio-to-Location By Mitchell Bohman, Nour Zahlan, and Masiur Abik\n",
    "pool = Pool(12) \n",
    "os.environ[\"GOOGLE_APPLICATION_CREDENTIALS\"] = \"./api_key.json\"   \n",
    "client = speech.SpeechClient()"
   ]
  }
 ],
 "metadata": {
  "kernelspec": {
   "display_name": "Python 3",
   "language": "python",
   "name": "python3"
  },
  "language_info": {
   "codemirror_mode": {
    "name": "ipython",
    "version": 3
   },
   "file_extension": ".py",
   "mimetype": "text/x-python",
   "name": "python",
   "nbconvert_exporter": "python",
   "pygments_lexer": "ipython3",
   "version": "3.7.3"
  }
 },
 "nbformat": 4,
 "nbformat_minor": 2
}
