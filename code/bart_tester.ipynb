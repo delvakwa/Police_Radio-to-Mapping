{
 "cells": [
  {
   "cell_type": "code",
   "execution_count": 1,
   "metadata": {},
   "outputs": [],
   "source": [
    "import bart\n",
    "from datetime import datetime"
   ]
  },
  {
   "cell_type": "code",
   "execution_count": 2,
   "metadata": {},
   "outputs": [],
   "source": [
    "TEST_FEED_ID = '763' # This is Sgt. Peterson, Chicago Police (top listened-to feed!)\n",
    "# TEST_FEED_ID = '14439' # Travis County, Austin, TX\n",
    "# TEST_FEED_ID = '18812' # Fulton County, Atlanta, GA\n",
    "# TEST_FEED_ID = '19807' # Lackawanna County, Scranton, PA"
   ]
  },
  {
   "cell_type": "code",
   "execution_count": 3,
   "metadata": {
    "code_folding": [
     0
    ]
   },
   "outputs": [],
   "source": [
    "# This field contains the username and password. Hide it.\n",
    "\n",
    "\n",
    "\n",
    "\n",
    "\n",
    "\n",
    "\n",
    "\n",
    "\n",
    "\n",
    "\n",
    "\n",
    "\n",
    "\n",
    "\n",
    "\n",
    "\n",
    "\n",
    "\n",
    "\n",
    "\n",
    "\n",
    "\n",
    "\n",
    "\n",
    "\n",
    "\n",
    "\n",
    "\n",
    "\n",
    "\n",
    "\n",
    "\n",
    "\n",
    "\n",
    "USERNAME = 'cwchiu'\n",
    "PASSWORD = 'datascientists'"
   ]
  },
  {
   "cell_type": "code",
   "execution_count": 4,
   "metadata": {},
   "outputs": [],
   "source": [
    "# Instantiate BArT\n",
    "archive = bart.BroadcastifyArchive(TEST_FEED_ID, USERNAME, PASSWORD)"
   ]
  },
  {
   "cell_type": "code",
   "execution_count": 5,
   "metadata": {
    "code_folding": []
   },
   "outputs": [],
   "source": [
    "# Import pickle\n",
    "\n",
    "import pickle\n",
    "with open('../data/sample_archive_entries.pkl', 'rb') as pickle_in:\n",
    "    sample_archive_entries = pickle.load(pickle_in)\n",
    "    \n",
    "archive.entries = sample_archive_entries"
   ]
  },
  {
   "cell_type": "code",
   "execution_count": 6,
   "metadata": {},
   "outputs": [
    {
     "data": {
      "text/plain": [
       "BroadcastifyArchive\n",
       " (56 ArchiveEntries\n",
       "  start date: None\n",
       "  end date:   None\n",
       "  feed_id = 763\n",
       "  username = \"cwchiu\", pwd = [True]\n",
       "  feed_url = \"https://www.broadcastify.com/listen/feed/763\"\n",
       "  archive_url = \"https://m.broadcastify.com/archives/feed/763\"\n",
       "  verbose = True)"
      ]
     },
     "execution_count": 6,
     "metadata": {},
     "output_type": "execute_result"
    }
   ],
   "source": [
    "# Print object representation\n",
    "archive"
   ]
  },
  {
   "cell_type": "code",
   "execution_count": null,
   "metadata": {},
   "outputs": [],
   "source": [
    "# Build and archive going back 1 day\n",
    "archive.build(1)"
   ]
  },
  {
   "cell_type": "code",
   "execution_count": 7,
   "metadata": {},
   "outputs": [
    {
     "name": "stdout",
     "output_type": "stream",
     "text": [
      "Retrieving list of ArchiveEntries...\n",
      " no earlier than 2019-07-31 22:00:00\n",
      " no later than   2019-08-01 02:00:00\n",
      "\n",
      "4 ArchiveEntries matched.\n",
      "Downloading 1 of 4\n",
      "\tfrom http://garchives1.broadcastify.com/763/20190801/201908010123-325733-763.mp3\n",
      "\tto ../audio_data/audio_files/mp3_files/763-20190801-0153.mp3\n",
      "\tFile already exists. Skipping.\n",
      "Downloading 2 of 4\n",
      "\tfrom http://garchives1.broadcastify.com/763/20190801/201908010053-176391-763.mp3\n",
      "\tto ../audio_data/audio_files/mp3_files/763-20190801-0123.mp3\n",
      "\tFile already exists. Skipping.\n",
      "Downloading 3 of 4\n",
      "\tfrom http://garchives1.broadcastify.com/763/20190801/201908010023-358795-763.mp3\n",
      "\tto ../audio_data/audio_files/mp3_files/763-20190801-0053.mp3\n",
      "\tFile already exists. Skipping.\n",
      "Downloading 4 of 4\n",
      "\tfrom http://garchives1.broadcastify.com/763/20190801/201907312353-870425-763.mp3\n",
      "\tto ../audio_data/audio_files/mp3_files/763-20190801-0023.mp3\n",
      "\tFile already exists. Skipping.\n",
      "\n",
      "Downloads complete.\n",
      "\n",
      "Retrieved 4 files in 0.0036 seconds.\n"
     ]
    }
   ],
   "source": [
    "# Download the mp3s for the period 10p-2a in the archive\n",
    "archive.download(start=datetime(2019,7,31,22,0), end=datetime(2019,8,1,2,0))"
   ]
  },
  {
   "cell_type": "code",
   "execution_count": null,
   "metadata": {},
   "outputs": [],
   "source": [
    "# Change the feed_id\n",
    "\n",
    "archive.feed_id = '14439'\n",
    "archive"
   ]
  },
  {
   "cell_type": "code",
   "execution_count": null,
   "metadata": {
    "code_folding": []
   },
   "outputs": [],
   "source": [
    "# Export pickle\n",
    "\n",
    "import pickle\n",
    "\n",
    "sample_archive_entries = archive.entries\n",
    "\n",
    "with open('../data/sample_archive_entries.pkl','wb') as pickle_out:\n",
    "    pickle.dump(sample_archive_entries, pickle_out)"
   ]
  },
  {
   "cell_type": "markdown",
   "metadata": {},
   "source": [
    "----"
   ]
  }
 ],
 "metadata": {
  "kernelspec": {
   "display_name": "Python 3",
   "language": "python",
   "name": "python3"
  },
  "language_info": {
   "codemirror_mode": {
    "name": "ipython",
    "version": 3
   },
   "file_extension": ".py",
   "mimetype": "text/x-python",
   "name": "python",
   "nbconvert_exporter": "python",
   "pygments_lexer": "ipython3",
   "version": "3.7.3"
  },
  "toc": {
   "base_numbering": 1,
   "nav_menu": {},
   "number_sections": false,
   "sideBar": true,
   "skip_h1_title": true,
   "title_cell": "Table of Contents",
   "title_sidebar": "Contents",
   "toc_cell": false,
   "toc_position": {},
   "toc_section_display": true,
   "toc_window_display": false
  },
  "varInspector": {
   "cols": {
    "lenName": 16,
    "lenType": 16,
    "lenVar": 40
   },
   "kernels_config": {
    "python": {
     "delete_cmd_postfix": "",
     "delete_cmd_prefix": "del ",
     "library": "var_list.py",
     "varRefreshCmd": "print(var_dic_list())"
    },
    "r": {
     "delete_cmd_postfix": ") ",
     "delete_cmd_prefix": "rm(",
     "library": "var_list.r",
     "varRefreshCmd": "cat(var_dic_list()) "
    }
   },
   "types_to_exclude": [
    "module",
    "function",
    "builtin_function_or_method",
    "instance",
    "_Feature"
   ],
   "window_display": false
  }
 },
 "nbformat": 4,
 "nbformat_minor": 2
}
