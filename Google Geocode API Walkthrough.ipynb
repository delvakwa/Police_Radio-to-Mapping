{
 "cells": [
  {
   "cell_type": "markdown",
   "metadata": {},
   "source": [
    "# Explanation"
   ]
  },
  {
   "cell_type": "markdown",
   "metadata": {},
   "source": [
    "The Geocoding API provides geocodes and reverse geocodes for addresses. \n",
    "\n",
    "* Geocoding converts addresses to latitude/longitude coordinates. \n",
    "* Reverse geocoding takes latitude/longitude coordinates and returns addresses. \n",
    "\n",
    "The Geocoding API takes requests in the following form:\n",
    "\n",
    "`https://maps.googleapis.com/maps/api/geocode/outputFormat?parameters`\n",
    "\n",
    "* output format can either be `json` or `xml`, but we will be using JSON exclusively.\n",
    "\n",
    "parameters must be separated with `&` and are as follows:\n",
    "* address : street address used in the format native to related country. Things like business names, suite/ floor numbers should be ommited.\n",
    "* component filtering : *optional* restrictions placed on addresses to help specify area to focus on. Can be \n",
    "> * `postal_code = postal code`  \n",
    "> * `country = `[alpha-2 code](https://en.wikipedia.org/wiki/ISO_3166-1)"
   ]
  },
  {
   "cell_type": "markdown",
   "metadata": {},
   "source": [
    "## Important Notes\n",
    "\n",
    "\n",
    "`components=country:GB|country:AU` causes the API to look for the address in GB *and* AU, not GB *or* AU.\n",
    "\n",
    "**Do NOT specify postal code or country in both the address and component portions of the API request. Pick ONE.**"
   ]
  },
  {
   "cell_type": "markdown",
   "metadata": {},
   "source": [
    "***\n",
    "# Example\n",
    "\n",
    "In this example you will need to parse through json format to get to the latitude and longitude you are looking to pull. Once you have both, they can be inserted into the google maps API to highlight their locations.\n",
    "\n",
    "This example has multiple responses because the address is not specific enough. If additional parameters like postal code and country were added, only one result would be returned. \n",
    "\n",
    "### JSON response\n",
    "\n",
    "**Input:**\n",
    "\n",
    "`https://maps.googleapis.com/maps/api/geocode/json?address=1600+Amphitheatre+Parkway,\n",
    "+Mountain+View,+CA&key=YOUR_API_KEY`\n",
    "\n",
    "**Output:**  (See bottom of code)"
   ]
  },
  {
   "cell_type": "raw",
   "metadata": {},
   "source": [
    "{\n",
    "   \"results\" : [\n",
    "      {\n",
    "         \"address_components\" : [\n",
    "            {\n",
    "               \"long_name\" : \"1600\",\n",
    "               \"short_name\" : \"1600\",\n",
    "               \"types\" : [ \"street_number\" ]\n",
    "            },\n",
    "            {\n",
    "               \"long_name\" : \"Amphitheatre Pkwy\",\n",
    "               \"short_name\" : \"Amphitheatre Pkwy\",\n",
    "               \"types\" : [ \"route\" ]\n",
    "            },\n",
    "            {\n",
    "               \"long_name\" : \"Mountain View\",\n",
    "               \"short_name\" : \"Mountain View\",\n",
    "               \"types\" : [ \"locality\", \"political\" ]\n",
    "            },\n",
    "            {\n",
    "               \"long_name\" : \"Santa Clara County\",\n",
    "               \"short_name\" : \"Santa Clara County\",\n",
    "               \"types\" : [ \"administrative_area_level_2\", \"political\" ]\n",
    "            },\n",
    "            {\n",
    "               \"long_name\" : \"California\",\n",
    "               \"short_name\" : \"CA\",\n",
    "               \"types\" : [ \"administrative_area_level_1\", \"political\" ]\n",
    "            },\n",
    "            {\n",
    "               \"long_name\" : \"United States\",\n",
    "               \"short_name\" : \"US\",\n",
    "               \"types\" : [ \"country\", \"political\" ]\n",
    "            },\n",
    "            {\n",
    "               \"long_name\" : \"94043\",\n",
    "               \"short_name\" : \"94043\",\n",
    "               \"types\" : [ \"postal_code\" ]\n",
    "            }\n",
    "         ],\n",
    "         \"formatted_address\" : \"1600 Amphitheatre Parkway, Mountain View, CA 94043, USA\",\n",
    "         \"geometry\" : {\n",
    "            \"location\" : {\n",
    "               \"lat\" : 37.4224764,\n",
    "               \"lng\" : -122.0842499\n",
    "            },\n",
    "            \"location_type\" : \"ROOFTOP\",\n",
    "            \"viewport\" : {\n",
    "               \"northeast\" : {\n",
    "                  \"lat\" : 37.4238253802915,\n",
    "                  \"lng\" : -122.0829009197085\n",
    "               },\n",
    "               \"southwest\" : {\n",
    "                  \"lat\" : 37.4211274197085,\n",
    "                  \"lng\" : -122.0855988802915\n",
    "               }\n",
    "            }\n",
    "         },\n",
    "         \"place_id\" : \"ChIJ2eUgeAK6j4ARbn5u_wAGqWA\",\n",
    "         \"types\" : [ \"street_address\" ]\n",
    "      }\n",
    "   ],\n",
    "   \"status\" : \"OK\"\n",
    "}"
   ]
  },
  {
   "cell_type": "code",
   "execution_count": null,
   "metadata": {},
   "outputs": [],
   "source": []
  }
 ],
 "metadata": {
  "kernelspec": {
   "display_name": "Python 3",
   "language": "python",
   "name": "python3"
  },
  "language_info": {
   "codemirror_mode": {
    "name": "ipython",
    "version": 3
   },
   "file_extension": ".py",
   "mimetype": "text/x-python",
   "name": "python",
   "nbconvert_exporter": "python",
   "pygments_lexer": "ipython3",
   "version": "3.7.3"
  }
 },
 "nbformat": 4,
 "nbformat_minor": 2
}
