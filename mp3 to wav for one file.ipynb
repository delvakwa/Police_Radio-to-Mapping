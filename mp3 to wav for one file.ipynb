{
 "cells": [
  {
   "cell_type": "markdown",
   "metadata": {},
   "source": [
    "### Code adopted from NY General Assembly DSI radio-to-location repository"
   ]
  },
  {
   "cell_type": "code",
   "execution_count": 1,
   "metadata": {},
   "outputs": [],
   "source": [
    "# !pip install pydub"
   ]
  },
  {
   "cell_type": "code",
   "execution_count": 26,
   "metadata": {},
   "outputs": [],
   "source": [
    "import os\n",
    "import pydub\n",
    "\n",
    "import requests\n",
    "import pickle\n",
    "\n",
    "import pandas as pd\n",
    "import numpy as np\n",
    "\n",
    "from bs4 import BeautifulSoup\n",
    "from scipy.io import wavfile\n",
    "from pydub import AudioSegment\n",
    "from pydub.silence import split_on_silence, detect_silence"
   ]
  },
  {
   "cell_type": "code",
   "execution_count": 4,
   "metadata": {},
   "outputs": [],
   "source": [
    "pydub.AudioSegment.converter = r\"C:/Users/kwama/Downloads/ffmpeg/ffmpeg/bin/ffmpeg.exe\"\n",
    "pydub.AudioSegment.ffmpeg = r\"C:/Users/kwama/Downloads/ffmpeg/ffmpeg/bin/ffmpeg.exe\"\n",
    "pydub.AudioSegment.ffprobe = r\"C:/Users/kwama/Downloads/ffmpeg/ffmpeg/bin/ffprobe.exe\""
   ]
  },
  {
   "cell_type": "code",
   "execution_count": 5,
   "metadata": {
    "scrolled": false
   },
   "outputs": [
    {
     "name": "stdout",
     "output_type": "stream",
     "text": [
      "sample_width= 2\n",
      "channel_count= 1\n",
      "duration_in_sec= 1897.822\n",
      "frame_rate= 22050\n"
     ]
    }
   ],
   "source": [
    "sound_file = AudioSegment.from_file(\"audio_data/audio_files/mp3_files/18812-20190725-0030.mp3\", format=\"mp3\")\n",
    "channel_count = sound_file.channels    \n",
    "sample_width = sound_file.sample_width \n",
    "duration_in_sec = len(sound_file) / 1000 \n",
    "sample_rate = sound_file.frame_rate\n",
    "\n",
    "print (\"sample_width=\", sample_width)\n",
    "print (\"channel_count=\", channel_count)\n",
    "print (\"duration_in_sec=\", duration_in_sec)\n",
    "print (\"frame_rate=\", sample_rate)"
   ]
  },
  {
   "cell_type": "code",
   "execution_count": 7,
   "metadata": {},
   "outputs": [
    {
     "data": {
      "text/plain": [
       "['18812-20190725-0000.mp3',\n",
       " '18812-20190725-0030.mp3',\n",
       " '18812-20190725-0100.mp3',\n",
       " '18812-20190725-0130.mp3',\n",
       " '18812-20190725-0200.mp3',\n",
       " '18812-20190725-0230.mp3',\n",
       " '18812-20190725-0259.mp3',\n",
       " '18812-20190725-0329.mp3',\n",
       " '18812-20190725-0359.mp3',\n",
       " '18812-20190725-0429.mp3',\n",
       " '18812-20190725-0459.mp3',\n",
       " '18812-20190725-0529.mp3',\n",
       " '18812-20190725-0558.mp3',\n",
       " '18812-20190725-0628.mp3',\n",
       " '18812-20190725-0658.mp3',\n",
       " '18812-20190725-0728.mp3',\n",
       " '18812-20190725-0758.mp3',\n",
       " '18812-20190725-0828.mp3',\n",
       " '18812-20190725-0857.mp3',\n",
       " '18812-20190725-0927.mp3',\n",
       " '18812-20190725-0957.mp3',\n",
       " '18812-20190725-1027.mp3',\n",
       " '18812-20190725-1057.mp3',\n",
       " '18812-20190725-1127.mp3',\n",
       " '18812-20190725-1156.mp3',\n",
       " '18812-20190725-1226.mp3',\n",
       " '18812-20190725-1256.mp3',\n",
       " '18812-20190725-1326.mp3',\n",
       " '18812-20190725-1356.mp3',\n",
       " '18812-20190725-1426.mp3',\n",
       " '18812-20190725-1455.mp3',\n",
       " '18812-20190725-1525.mp3',\n",
       " '18812-20190725-1555.mp3',\n",
       " '18812-20190725-1625.mp3',\n",
       " '18812-20190725-1655.mp3',\n",
       " '18812-20190725-1725.mp3',\n",
       " '18812-20190725-1824.mp3',\n",
       " '18812-20190725-1854.mp3',\n",
       " '18812-20190725-1924.mp3',\n",
       " '201907251314-78182-763.mp3']"
      ]
     },
     "execution_count": 7,
     "metadata": {},
     "output_type": "execute_result"
    }
   ],
   "source": [
    "os.listdir('data/test_data/test_mp3/')[1:]"
   ]
  },
  {
   "cell_type": "code",
   "execution_count": 28,
   "metadata": {},
   "outputs": [],
   "source": [
    "os.listdir('audio_data/audio_files/mp3_files/')[1]\n",
    "filename = 'audio_data/audio_files/mp3_files/' + file\n",
    "audio = AudioSegment.from_file(filename, format=\"mp3\")\n",
    "audio_chunks = split_on_silence(audio, \n",
    "                              min_silence_len = 2500,            \n",
    "                              silence_thresh = -16)"
   ]
  },
  {
   "cell_type": "code",
   "execution_count": 29,
   "metadata": {},
   "outputs": [
    {
     "data": {
      "text/plain": [
       "22"
      ]
     },
     "execution_count": 29,
     "metadata": {},
     "output_type": "execute_result"
    }
   ],
   "source": [
    "len(audio_chunks)"
   ]
  },
  {
   "cell_type": "code",
   "execution_count": 27,
   "metadata": {},
   "outputs": [
    {
     "data": {
      "text/plain": [
       "72"
      ]
     },
     "execution_count": 27,
     "metadata": {},
     "output_type": "execute_result"
    }
   ],
   "source": [
    "audio_silence = detect_silence(audio)\n",
    "len(audio_silence)"
   ]
  },
  {
   "cell_type": "code",
   "execution_count": 31,
   "metadata": {},
   "outputs": [],
   "source": [
    "for chunk in audio_chunks:\n",
    "    chunk.export(f\"audio_data/audio_files/wav_files/{file.split('.')[0]}.wav\", format=\"wav\")"
   ]
  }
 ],
 "metadata": {
  "kernelspec": {
   "display_name": "Python 3",
   "language": "python",
   "name": "python3"
  },
  "language_info": {
   "codemirror_mode": {
    "name": "ipython",
    "version": 3
   },
   "file_extension": ".py",
   "mimetype": "text/x-python",
   "name": "python",
   "nbconvert_exporter": "python",
   "pygments_lexer": "ipython3",
   "version": "3.7.3"
  }
 },
 "nbformat": 4,
 "nbformat_minor": 2
}
